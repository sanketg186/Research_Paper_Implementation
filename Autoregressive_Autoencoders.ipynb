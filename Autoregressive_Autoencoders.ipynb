{
  "nbformat": 4,
  "nbformat_minor": 0,
  "metadata": {
    "colab": {
      "name": "Autoregressive_Autoencoders.ipynb",
      "provenance": [],
      "collapsed_sections": []
    },
    "kernelspec": {
      "name": "python3",
      "display_name": "Python 3"
    },
    "accelerator": "GPU"
  },
  "cells": [
    {
      "cell_type": "markdown",
      "metadata": {
        "id": "xjoq-OXibbue",
        "colab_type": "text"
      },
      "source": [
        "In this Jupyter notebook. I am implementing autoregressive autoencoder. For the sake of simplicity and understanding I have implemented a simple neural network on MNIST dataset with 1 hidden layer."
      ]
    },
    {
      "cell_type": "code",
      "metadata": {
        "id": "njJ1hrxXGXR0",
        "colab_type": "code",
        "colab": {}
      },
      "source": [
        "# importing all required libraries\n",
        "import torch\n",
        "import numpy as np\n",
        "import pandas as pd\n",
        "import torchvision\n",
        "from torchvision.datasets import MNIST\n",
        "import torch.utils.data as data\n",
        "from torch.utils.data import RandomSampler,SequentialSampler\n",
        "from torchvision import transforms,datasets\n",
        "import torch.nn as nn   \n",
        "from torch.autograd import Variable\n",
        "import torch.nn.functional as F\n",
        "%matplotlib inline\n",
        "import matplotlib.pyplot as plt"
      ],
      "execution_count": 0,
      "outputs": []
    },
    {
      "cell_type": "code",
      "metadata": {
        "id": "VXTiyn_q8rp_",
        "colab_type": "code",
        "colab": {}
      },
      "source": [
        "dtype = torch.cuda.FloatTensor"
      ],
      "execution_count": 0,
      "outputs": []
    },
    {
      "cell_type": "code",
      "metadata": {
        "id": "6vCnjwcjMzb-",
        "colab_type": "code",
        "outputId": "f7b15959-392a-44a4-d733-2a47202044cd",
        "colab": {
          "base_uri": "https://localhost:8080/",
          "height": 36
        }
      },
      "source": [
        " transform=torchvision.transforms.Compose([\n",
        "                               torchvision.transforms.ToTensor(),\n",
        "                              #  torchvision.transforms.Normalize(\n",
        "                              #    (0.5,), (0.5,))\n",
        "                             ])\n",
        " batch_size_train = 16\n",
        " batch_size_test = 10\n",
        " random_seed = 0\n",
        " torch.manual_seed(random_seed)"
      ],
      "execution_count": 5,
      "outputs": [
        {
          "output_type": "execute_result",
          "data": {
            "text/plain": [
              "<torch._C.Generator at 0x7f0333b0bbd0>"
            ]
          },
          "metadata": {
            "tags": []
          },
          "execution_count": 5
        }
      ]
    },
    {
      "cell_type": "code",
      "metadata": {
        "id": "yUZN-W9_MY28",
        "colab_type": "code",
        "colab": {
          "base_uri": "https://localhost:8080/",
          "height": 301
        },
        "outputId": "ddaa44f6-3f01-41eb-959a-76ca417a70ae"
      },
      "source": [
        "train_loader = data.DataLoader(MNIST('./Data', train=True, download=True,transform=transform),\n",
        "                               batch_size=batch_size_train, shuffle=True)\n",
        "test_loader = data.DataLoader(MNIST('./Data', train=False, download=True,transform=transform),\n",
        "                               batch_size=batch_size_train, shuffle=True)"
      ],
      "execution_count": 6,
      "outputs": [
        {
          "output_type": "stream",
          "text": [
            "\r0it [00:00, ?it/s]"
          ],
          "name": "stderr"
        },
        {
          "output_type": "stream",
          "text": [
            "Downloading http://yann.lecun.com/exdb/mnist/train-images-idx3-ubyte.gz to ./Data/MNIST/raw/train-images-idx3-ubyte.gz\n"
          ],
          "name": "stdout"
        },
        {
          "output_type": "stream",
          "text": [
            "9920512it [00:02, 3834694.69it/s]                            \n"
          ],
          "name": "stderr"
        },
        {
          "output_type": "stream",
          "text": [
            "Extracting ./Data/MNIST/raw/train-images-idx3-ubyte.gz to ./Data/MNIST/raw\n"
          ],
          "name": "stdout"
        },
        {
          "output_type": "stream",
          "text": [
            "\r0it [00:00, ?it/s]"
          ],
          "name": "stderr"
        },
        {
          "output_type": "stream",
          "text": [
            "Downloading http://yann.lecun.com/exdb/mnist/train-labels-idx1-ubyte.gz to ./Data/MNIST/raw/train-labels-idx1-ubyte.gz\n"
          ],
          "name": "stdout"
        },
        {
          "output_type": "stream",
          "text": [
            "32768it [00:00, 57690.54it/s]                           \n",
            "0it [00:00, ?it/s]"
          ],
          "name": "stderr"
        },
        {
          "output_type": "stream",
          "text": [
            "Extracting ./Data/MNIST/raw/train-labels-idx1-ubyte.gz to ./Data/MNIST/raw\n",
            "Downloading http://yann.lecun.com/exdb/mnist/t10k-images-idx3-ubyte.gz to ./Data/MNIST/raw/t10k-images-idx3-ubyte.gz\n"
          ],
          "name": "stdout"
        },
        {
          "output_type": "stream",
          "text": [
            "1654784it [00:01, 951126.02it/s]                             \n",
            "0it [00:00, ?it/s]"
          ],
          "name": "stderr"
        },
        {
          "output_type": "stream",
          "text": [
            "Extracting ./Data/MNIST/raw/t10k-images-idx3-ubyte.gz to ./Data/MNIST/raw\n",
            "Downloading http://yann.lecun.com/exdb/mnist/t10k-labels-idx1-ubyte.gz to ./Data/MNIST/raw/t10k-labels-idx1-ubyte.gz\n"
          ],
          "name": "stdout"
        },
        {
          "output_type": "stream",
          "text": [
            "8192it [00:00, 21572.17it/s]            "
          ],
          "name": "stderr"
        },
        {
          "output_type": "stream",
          "text": [
            "Extracting ./Data/MNIST/raw/t10k-labels-idx1-ubyte.gz to ./Data/MNIST/raw\n",
            "Processing...\n",
            "Done!\n"
          ],
          "name": "stdout"
        },
        {
          "output_type": "stream",
          "text": [
            "\n"
          ],
          "name": "stderr"
        }
      ]
    },
    {
      "cell_type": "code",
      "metadata": {
        "id": "kITInvzW4P5n",
        "colab_type": "code",
        "colab": {}
      },
      "source": [
        "examples = enumerate(train_loader)\n",
        "batch_idx,(example_data,example_target) = next(examples)"
      ],
      "execution_count": 0,
      "outputs": []
    },
    {
      "cell_type": "code",
      "metadata": {
        "id": "eoph0rGx1oUE",
        "colab_type": "code",
        "colab": {}
      },
      "source": [
        "def plot_images(data_val,target):\n",
        "  fig  = plt.figure()\n",
        "  for i in range(16):\n",
        "    plt.subplot(4,4,i+1)\n",
        "    plt.tight_layout()\n",
        "    plt.imshow(data_val[i][0], cmap='gray', interpolation='none')\n",
        "    plt.title(\"Ground Truth: {}\".format(target[i]))\n",
        "    plt.xticks([])\n",
        "    plt.yticks([])\n",
        "    # plt.show()\n"
      ],
      "execution_count": 0,
      "outputs": []
    },
    {
      "cell_type": "code",
      "metadata": {
        "id": "G7wuFlYO1ojQ",
        "colab_type": "code",
        "outputId": "636fbb83-077e-408f-b984-c452dc5a2089",
        "colab": {
          "base_uri": "https://localhost:8080/",
          "height": 284
        }
      },
      "source": [
        "plot_images(example_data,example_target)"
      ],
      "execution_count": 8,
      "outputs": [
        {
          "output_type": "display_data",
          "data": {
            "image/png": "[encoded data removed]",
            "text/plain": [
              "<Figure size 432x288 with 16 Axes>"
            ]
          },
          "metadata": {
            "tags": []
          }
        }
      ]
    },
    {
      "cell_type": "code",
      "metadata": {
        "id": "12WTkzOsFqfH",
        "colab_type": "code",
        "colab": {}
      },
      "source": [
        "class MaskedLayer(nn.Linear):\n",
        "  def __init__(self,input_unit,output_unit,bias=True):\n",
        "    super(MaskedLayer,self).__init__(input_unit,output_unit,bias)\n",
        "    self.mask = torch.ones(output_unit,input_unit).type(dtype)\n",
        "\n",
        "  def set_mask(self,mask):\n",
        "    self.mask = torch.from_numpy(mask.astype(np.uint8).T).type(dtype)\n",
        "  \n",
        "  def forward(self,input_unit):\n",
        "    # print(input_unit.size(),self.mask.size())\n",
        "    return F.linear(input_unit.type(dtype), self.mask * (self.weight).type(dtype), (self.bias).type(dtype))\n"
      ],
      "execution_count": 0,
      "outputs": []
    },
    {
      "cell_type": "code",
      "metadata": {
        "id": "Y1s7CH7F1ouu",
        "colab_type": "code",
        "colab": {}
      },
      "source": [
        "class Made(nn.Module):\n",
        "  def __init__(self,input_unit,hidden_unit,output_unit):\n",
        "    super(Made,self).__init__()\n",
        "    self.input_unit = input_unit\n",
        "    self.hidden_unit = hidden_unit\n",
        "    self.output_unit = output_unit\n",
        "    self.layer1 = MaskedLayer(input_unit,hidden_unit[0])\n",
        "    self.layer2 = MaskedLayer(hidden_unit[0],output_unit)\n",
        "    self.net = nn.Sequential(self.layer1,nn.ReLU(),self.layer2)\n",
        "    self.m = {}\n",
        "    self.update_masks()\n",
        "\n",
        "  def update_masks(self):\n",
        "    rng = np.random.RandomState(random_seed)\n",
        "    L = len(self.hidden_unit)\n",
        "    self.m[-1] = np.arange(self.input_unit)\n",
        "    for l in range(L):\n",
        "      self.m[l] = rng.randint(self.m[l-1].min(),self.input_unit-1,size=self.hidden_unit[l])\n",
        "    masks = [self.m[l-1][:,None] <= self.m[l][None,:] for l in range(L)]\n",
        "    masks.append(self.m[L-1][:,None]<self.m[-1][None,:])\n",
        "    layers = [l for l in self.net.modules() if isinstance(l, MaskedLayer)]\n",
        "    for l,m in zip(layers, masks):\n",
        "      l.set_mask(m)\n",
        "    \n",
        "  def forward(self,x):\n",
        "    z  = self.net(x)\n",
        "    return z"
      ],
      "execution_count": 0,
      "outputs": []
    },
    {
      "cell_type": "code",
      "metadata": {
        "id": "Nuf-EfqdMjB4",
        "colab_type": "code",
        "colab": {}
      },
      "source": [
        "input_size = 28*28\n",
        "output_size = 28*28\n",
        "model  = Made(input_size,[500],output_size).type(dtype)\n",
        "optim = torch.optim.Adam(model.parameters())"
      ],
      "execution_count": 0,
      "outputs": []
    },
    {
      "cell_type": "code",
      "metadata": {
        "id": "DG-baqH8dECL",
        "colab_type": "code",
        "colab": {}
      },
      "source": [
        "\n",
        "def train_model(num_epochs):\n",
        "  loss_list = []\n",
        "  nsamples=20\n",
        "  for epoch in range(num_epochs):\n",
        "    train_loss = 0\n",
        "    for x,y in train_loader:\n",
        "      x = x.view(batch_size_train,-1)\n",
        "      x[x>=.5] = 1\n",
        "      x[x<.5] = 0\n",
        "      predict = 0\n",
        "      score = model(x)\n",
        "      predict = score\n",
        "      loss = F.binary_cross_entropy_with_logits(predict.type(dtype),x.type(dtype),size_average=False)/batch_size_train\n",
        "      optim.zero_grad()\n",
        "      loss.backward()\n",
        "      optim.step()\n",
        "      train_loss +=loss.item()\n",
        "    train_loss = train_loss/len(train_loader)\n",
        "    loss_list.append(train_loss)\n",
        "    print(\"epoch: \",epoch,\"-->\",train_loss)"
      ],
      "execution_count": 0,
      "outputs": []
    },
    {
      "cell_type": "code",
      "metadata": {
        "id": "3vIqqzrPlAWe",
        "colab_type": "code",
        "outputId": "8e1369b3-1cff-413e-f8b9-fb1b0fc6f5bd",
        "colab": {
          "base_uri": "https://localhost:8080/",
          "height": 1000
        }
      },
      "source": [
        "model.train()\n",
        "train_model(500)"
      ],
      "execution_count": 13,
      "outputs": [
        {
          "output_type": "stream",
          "text": [
            "/usr/local/lib/python3.6/dist-packages/torch/nn/_reduction.py:43: UserWarning: size_average and reduce args will be deprecated, please use reduction='sum' instead.\n",
            "  warnings.warn(warning.format(ret))\n"
          ],
          "name": "stderr"
        },
        {
          "output_type": "stream",
          "text": [
            "epoch:  0 --> 127.64694110310873\n",
            "epoch:  1 --> 93.17216348673503\n",
            "epoch:  2 --> 88.16348107503255\n",
            "epoch:  3 --> 85.80647465515136\n",
            "epoch:  4 --> 84.36835661824544\n",
            "epoch:  5 --> 83.39981107177735\n",
            "epoch:  6 --> 82.68978709513347\n",
            "epoch:  7 --> 82.17350975748698\n",
            "epoch:  8 --> 81.75666158243816\n",
            "epoch:  9 --> 81.41210231323242\n",
            "epoch:  10 --> 81.11889424947103\n",
            "epoch:  11 --> 80.86470538024902\n",
            "epoch:  12 --> 80.66945465596517\n",
            "epoch:  13 --> 80.48691416625977\n",
            "epoch:  14 --> 80.31391665547689\n",
            "epoch:  15 --> 80.1552379119873\n",
            "epoch:  16 --> 80.01948403828939\n",
            "epoch:  17 --> 79.88883047078451\n",
            "epoch:  18 --> 79.77848701273601\n",
            "epoch:  19 --> 79.64723818969726\n",
            "epoch:  20 --> 79.55409928385417\n",
            "epoch:  21 --> 79.45538005574544\n",
            "epoch:  22 --> 79.36424365030925\n",
            "epoch:  23 --> 79.28635454915364\n",
            "epoch:  24 --> 79.22062389526367\n",
            "epoch:  25 --> 79.13551186319987\n",
            "epoch:  26 --> 79.07075403645834\n",
            "epoch:  27 --> 78.9965436686198\n",
            "epoch:  28 --> 78.94827605285644\n",
            "epoch:  29 --> 78.8915381866455\n",
            "epoch:  30 --> 78.82959574584962\n",
            "epoch:  31 --> 78.80104816996257\n",
            "epoch:  32 --> 78.73911317850748\n",
            "epoch:  33 --> 78.6855425608317\n",
            "epoch:  34 --> 78.64995586039225\n",
            "epoch:  35 --> 78.5998482035319\n",
            "epoch:  36 --> 78.56406934916178\n",
            "epoch:  37 --> 78.5280579650879\n",
            "epoch:  38 --> 78.49461350504558\n",
            "epoch:  39 --> 78.44527367248536\n",
            "epoch:  40 --> 78.4232151204427\n",
            "epoch:  41 --> 78.38116253356934\n",
            "epoch:  42 --> 78.35068574117025\n",
            "epoch:  43 --> 78.32039650065104\n",
            "epoch:  44 --> 78.28272200520833\n",
            "epoch:  45 --> 78.2540600941976\n",
            "epoch:  46 --> 78.23634243570963\n",
            "epoch:  47 --> 78.19648608296713\n",
            "epoch:  48 --> 78.18082774759928\n",
            "epoch:  49 --> 78.15180606994629\n",
            "epoch:  50 --> 78.12550526631674\n",
            "epoch:  51 --> 78.10695624694824\n",
            "epoch:  52 --> 78.08574997151693\n",
            "epoch:  53 --> 78.05940083821615\n",
            "epoch:  54 --> 78.03265627644856\n",
            "epoch:  55 --> 78.0123297454834\n",
            "epoch:  56 --> 78.00149404703777\n",
            "epoch:  57 --> 77.97190583699545\n",
            "epoch:  58 --> 77.94741569925944\n",
            "epoch:  59 --> 77.93544899291992\n",
            "epoch:  60 --> 77.91515012613932\n",
            "epoch:  61 --> 77.90334203694661\n",
            "epoch:  62 --> 77.88494401957195\n",
            "epoch:  63 --> 77.86133760986328\n",
            "epoch:  64 --> 77.85071422831217\n",
            "epoch:  65 --> 77.83537605692545\n",
            "epoch:  66 --> 77.82043225911458\n",
            "epoch:  67 --> 77.80158809305827\n",
            "epoch:  68 --> 77.79808103942871\n",
            "epoch:  69 --> 77.76960802815755\n",
            "epoch:  70 --> 77.75463163045248\n",
            "epoch:  71 --> 77.73717537740072\n",
            "epoch:  72 --> 77.73601575520833\n",
            "epoch:  73 --> 77.72908436889648\n",
            "epoch:  74 --> 77.70716196695963\n",
            "epoch:  75 --> 77.69728306070964\n",
            "epoch:  76 --> 77.67671212565104\n",
            "epoch:  77 --> 77.67186209615072\n",
            "epoch:  78 --> 77.65192535502116\n",
            "epoch:  79 --> 77.64955811564127\n",
            "epoch:  80 --> 77.65114836120605\n",
            "epoch:  81 --> 77.61975017089844\n",
            "epoch:  82 --> 77.62027554321288\n",
            "epoch:  83 --> 77.59973368428548\n",
            "epoch:  84 --> 77.58644121398926\n",
            "epoch:  85 --> 77.5835635152181\n",
            "epoch:  86 --> 77.56548130900065\n",
            "epoch:  87 --> 77.5565740620931\n",
            "epoch:  88 --> 77.54545662027995\n",
            "epoch:  89 --> 77.53045118306478\n",
            "epoch:  90 --> 77.52087888997396\n",
            "epoch:  91 --> 77.5196887298584\n",
            "epoch:  92 --> 77.51466271565755\n",
            "epoch:  93 --> 77.49081476033528\n",
            "epoch:  94 --> 77.47872743530273\n",
            "epoch:  95 --> 77.4837576924642\n",
            "epoch:  96 --> 77.46332253214518\n",
            "epoch:  97 --> 77.45414906107585\n",
            "epoch:  98 --> 77.44890804748535\n",
            "epoch:  99 --> 77.42553203125\n",
            "epoch:  100 --> 77.42511999816895\n",
            "epoch:  101 --> 77.41226475219726\n",
            "epoch:  102 --> 77.40053816223144\n",
            "epoch:  103 --> 77.39589831441243\n",
            "epoch:  104 --> 77.3789052734375\n",
            "epoch:  105 --> 77.37733777160645\n",
            "epoch:  106 --> 77.37364927469889\n",
            "epoch:  107 --> 77.35030718078613\n",
            "epoch:  108 --> 77.35095858052571\n",
            "epoch:  109 --> 77.33543223063151\n",
            "epoch:  110 --> 77.33742187398275\n",
            "epoch:  111 --> 77.31780407409668\n",
            "epoch:  112 --> 77.31437267964681\n",
            "epoch:  113 --> 77.3067857421875\n",
            "epoch:  114 --> 77.29973077087402\n",
            "epoch:  115 --> 77.29146726989747\n",
            "epoch:  116 --> 77.27644325256348\n",
            "epoch:  117 --> 77.27574198913574\n",
            "epoch:  118 --> 77.26512186177571\n",
            "epoch:  119 --> 77.256364356486\n",
            "epoch:  120 --> 77.24486911010742\n",
            "epoch:  121 --> 77.23270584513347\n",
            "epoch:  122 --> 77.22578006388346\n",
            "epoch:  123 --> 77.22436275227865\n",
            "epoch:  124 --> 77.21885200297038\n",
            "epoch:  125 --> 77.20557970072429\n",
            "epoch:  126 --> 77.19595356445312\n",
            "epoch:  127 --> 77.19449082132975\n",
            "epoch:  128 --> 77.19503196614583\n",
            "epoch:  129 --> 77.18848255615234\n",
            "epoch:  130 --> 77.1886629486084\n",
            "epoch:  131 --> 77.16848385823567\n",
            "epoch:  132 --> 77.17635080464682\n",
            "epoch:  133 --> 77.1553556488037\n",
            "epoch:  134 --> 77.15057335103353\n",
            "epoch:  135 --> 77.15650303548178\n",
            "epoch:  136 --> 77.16061087239584\n",
            "epoch:  137 --> 77.14185635579427\n",
            "epoch:  138 --> 77.13585967102051\n",
            "epoch:  139 --> 77.11953607991536\n",
            "epoch:  140 --> 77.1220746287028\n",
            "epoch:  141 --> 77.11598337504068\n",
            "epoch:  142 --> 77.11479464213053\n",
            "epoch:  143 --> 77.11036865030924\n",
            "epoch:  144 --> 77.10013623555501\n",
            "epoch:  145 --> 77.09687768758138\n",
            "epoch:  146 --> 77.08215950113933\n",
            "epoch:  147 --> 77.09137762044271\n",
            "epoch:  148 --> 77.08854834899903\n",
            "epoch:  149 --> 77.0794627746582\n",
            "epoch:  150 --> 77.06931512756347\n",
            "epoch:  151 --> 77.05955082906087\n",
            "epoch:  152 --> 77.05401808776855\n",
            "epoch:  153 --> 77.05344760335286\n",
            "epoch:  154 --> 77.04676842854818\n",
            "epoch:  155 --> 77.04528862813314\n",
            "epoch:  156 --> 77.03537272237142\n",
            "epoch:  157 --> 77.03801820678711\n",
            "epoch:  158 --> 77.0284486114502\n",
            "epoch:  159 --> 77.01399391377767\n",
            "epoch:  160 --> 77.02380071512859\n",
            "epoch:  161 --> 77.01584267985027\n",
            "epoch:  162 --> 77.01221403910318\n",
            "epoch:  163 --> 77.00362314453125\n",
            "epoch:  164 --> 76.9959427907308\n",
            "epoch:  165 --> 76.99644149169922\n",
            "epoch:  166 --> 76.99783539225261\n",
            "epoch:  167 --> 77.0001384419759\n",
            "epoch:  168 --> 76.97449564819335\n",
            "epoch:  169 --> 76.97256056925455\n",
            "epoch:  170 --> 76.9789810160319\n",
            "epoch:  171 --> 76.97170089823405\n",
            "epoch:  172 --> 76.96862992960612\n",
            "epoch:  173 --> 76.96599794921875\n",
            "epoch:  174 --> 76.95690749206543\n",
            "epoch:  175 --> 76.94803779805501\n",
            "epoch:  176 --> 76.94578214823404\n",
            "epoch:  177 --> 76.95578768513997\n",
            "epoch:  178 --> 76.93875338948568\n",
            "epoch:  179 --> 76.9237179880778\n",
            "epoch:  180 --> 76.92092167460123\n",
            "epoch:  181 --> 76.92282373250326\n",
            "epoch:  182 --> 76.92477539367675\n",
            "epoch:  183 --> 76.91933727010091\n",
            "epoch:  184 --> 76.90987835083008\n",
            "epoch:  185 --> 76.90511088256837\n",
            "epoch:  186 --> 76.90765292561849\n",
            "epoch:  187 --> 76.90390044759114\n",
            "epoch:  188 --> 76.89262084248861\n",
            "epoch:  189 --> 76.89885162862141\n",
            "epoch:  190 --> 76.8871087504069\n",
            "epoch:  191 --> 76.88115908508301\n",
            "epoch:  192 --> 76.88138815714518\n",
            "epoch:  193 --> 76.87277328491211\n",
            "epoch:  194 --> 76.88080461527507\n",
            "epoch:  195 --> 76.88220917154948\n",
            "epoch:  196 --> 76.8656987101237\n",
            "epoch:  197 --> 76.86774064636231\n",
            "epoch:  198 --> 76.86023286539714\n",
            "epoch:  199 --> 76.84939400431315\n",
            "epoch:  200 --> 76.85950559183756\n",
            "epoch:  201 --> 76.85211872558594\n",
            "epoch:  202 --> 76.84841597391764\n",
            "epoch:  203 --> 76.83285994059244\n",
            "epoch:  204 --> 76.84104163004557\n",
            "epoch:  205 --> 76.83237621968587\n",
            "epoch:  206 --> 76.82193686625163\n",
            "epoch:  207 --> 76.82782995605469\n",
            "epoch:  208 --> 76.83006122639974\n",
            "epoch:  209 --> 76.82334129536946\n",
            "epoch:  210 --> 76.81423928527832\n",
            "epoch:  211 --> 76.81528964945475\n",
            "epoch:  212 --> 76.81875619710287\n",
            "epoch:  213 --> 76.81407638854981\n",
            "epoch:  214 --> 76.80171944173178\n",
            "epoch:  215 --> 76.80977986958821\n",
            "epoch:  216 --> 76.80565667622884\n",
            "epoch:  217 --> 76.8006231241862\n",
            "epoch:  218 --> 76.82027162170411\n",
            "epoch:  219 --> 76.79150490519206\n",
            "epoch:  220 --> 76.78310428873698\n",
            "epoch:  221 --> 76.79019934895834\n",
            "epoch:  222 --> 76.77512045084636\n",
            "epoch:  223 --> 76.77785832316081\n",
            "epoch:  224 --> 76.78985622558594\n",
            "epoch:  225 --> 76.77773889770508\n",
            "epoch:  226 --> 76.7691641245524\n",
            "epoch:  227 --> 76.77706844380697\n",
            "epoch:  228 --> 76.75720967915854\n",
            "epoch:  229 --> 76.76729321390788\n",
            "epoch:  230 --> 76.76270384724936\n",
            "epoch:  231 --> 76.74884270833333\n",
            "epoch:  232 --> 76.75568992716471\n",
            "epoch:  233 --> 76.75657540486654\n",
            "epoch:  234 --> 76.75313737996419\n",
            "epoch:  235 --> 76.75892739461263\n",
            "epoch:  236 --> 76.73673426208497\n",
            "epoch:  237 --> 76.74154511515299\n",
            "epoch:  238 --> 76.73451198730469\n",
            "epoch:  239 --> 76.74388720703125\n",
            "epoch:  240 --> 76.73246586100261\n",
            "epoch:  241 --> 76.73613271687826\n",
            "epoch:  242 --> 76.72662770792643\n",
            "epoch:  243 --> 76.72046924641927\n",
            "epoch:  244 --> 76.72477336120606\n",
            "epoch:  245 --> 76.71208711242676\n",
            "epoch:  246 --> 76.71177995096842\n",
            "epoch:  247 --> 76.71604883931478\n",
            "epoch:  248 --> 76.7329995300293\n",
            "epoch:  249 --> 76.7057249806722\n",
            "epoch:  250 --> 76.70694931335449\n",
            "epoch:  251 --> 76.7085398783366\n",
            "epoch:  252 --> 76.71115626627603\n",
            "epoch:  253 --> 76.70805920003255\n",
            "epoch:  254 --> 76.70893544311524\n",
            "epoch:  255 --> 76.70432235412598\n",
            "epoch:  256 --> 76.70811582539876\n",
            "epoch:  257 --> 76.70008676249186\n",
            "epoch:  258 --> 76.69923736673991\n",
            "epoch:  259 --> 76.68874100952148\n",
            "epoch:  260 --> 76.69437491149903\n",
            "epoch:  261 --> 76.6833643778483\n",
            "epoch:  262 --> 76.68660396321614\n",
            "epoch:  263 --> 76.67805607299805\n",
            "epoch:  264 --> 76.68624870096842\n",
            "epoch:  265 --> 76.6750260579427\n",
            "epoch:  266 --> 76.65802676595052\n",
            "epoch:  267 --> 76.67221327718099\n",
            "epoch:  268 --> 76.67305990804036\n",
            "epoch:  269 --> 76.67631099955241\n",
            "epoch:  270 --> 76.67760842997232\n",
            "epoch:  271 --> 76.65802538553874\n",
            "epoch:  272 --> 76.66433363850912\n",
            "epoch:  273 --> 76.66121473693848\n",
            "epoch:  274 --> 76.64764225870768\n",
            "epoch:  275 --> 76.65325507914226\n",
            "epoch:  276 --> 76.6677264831543\n",
            "epoch:  277 --> 76.647165725708\n",
            "epoch:  278 --> 76.6517260111491\n",
            "epoch:  279 --> 76.65446151428223\n",
            "epoch:  280 --> 76.6588432800293\n",
            "epoch:  281 --> 76.64349413045247\n",
            "epoch:  282 --> 76.65162859598796\n",
            "epoch:  283 --> 76.64241469624837\n",
            "epoch:  284 --> 76.64713304443359\n",
            "epoch:  285 --> 76.6428095102946\n",
            "epoch:  286 --> 76.6459261291504\n",
            "epoch:  287 --> 76.63936210835774\n",
            "epoch:  288 --> 76.62736242777507\n",
            "epoch:  289 --> 76.6427797047933\n",
            "epoch:  290 --> 76.62805772399902\n",
            "epoch:  291 --> 76.63048870442708\n",
            "epoch:  292 --> 76.6251955251058\n",
            "epoch:  293 --> 76.62227513834635\n",
            "epoch:  294 --> 76.62229280700683\n",
            "epoch:  295 --> 76.62227677103678\n",
            "epoch:  296 --> 76.62511966247558\n",
            "epoch:  297 --> 76.61385914815267\n",
            "epoch:  298 --> 76.6257461517334\n",
            "epoch:  299 --> 76.61496471150716\n",
            "epoch:  300 --> 76.62426560974122\n",
            "epoch:  301 --> 76.61321937357584\n",
            "epoch:  302 --> 76.6083291402181\n",
            "epoch:  303 --> 76.60877239481609\n",
            "epoch:  304 --> 76.61039041341145\n",
            "epoch:  305 --> 76.6080234202067\n",
            "epoch:  306 --> 76.59946063130697\n",
            "epoch:  307 --> 76.60724198710123\n",
            "epoch:  308 --> 76.59946051737468\n",
            "epoch:  309 --> 76.60898526509602\n",
            "epoch:  310 --> 76.6002611328125\n",
            "epoch:  311 --> 76.59214362792969\n",
            "epoch:  312 --> 76.59071293741862\n",
            "epoch:  313 --> 76.59394207661947\n",
            "epoch:  314 --> 76.60110582784017\n",
            "epoch:  315 --> 76.59080928141276\n",
            "epoch:  316 --> 76.5883698638916\n",
            "epoch:  317 --> 76.59589006856282\n",
            "epoch:  318 --> 76.58269219767253\n",
            "epoch:  319 --> 76.5826067820231\n",
            "epoch:  320 --> 76.59253344624837\n",
            "epoch:  321 --> 76.5832325358073\n",
            "epoch:  322 --> 76.57678947753907\n",
            "epoch:  323 --> 76.58323434753417\n",
            "epoch:  324 --> 76.57827709655761\n",
            "epoch:  325 --> 76.5929301167806\n",
            "epoch:  326 --> 76.57294346618653\n",
            "epoch:  327 --> 76.57388180643717\n",
            "epoch:  328 --> 76.57548564860026\n",
            "epoch:  329 --> 76.57417216593424\n",
            "epoch:  330 --> 76.56912402242024\n",
            "epoch:  331 --> 76.56410053710937\n",
            "epoch:  332 --> 76.57172876281739\n",
            "epoch:  333 --> 76.56832068990072\n",
            "epoch:  334 --> 76.55760114746094\n",
            "epoch:  335 --> 76.55080763549805\n",
            "epoch:  336 --> 76.57273517150878\n",
            "epoch:  337 --> 76.54999548950195\n",
            "epoch:  338 --> 76.56206840922037\n",
            "epoch:  339 --> 76.56683200174967\n",
            "epoch:  340 --> 76.55904897460937\n",
            "epoch:  341 --> 76.54774355265299\n",
            "epoch:  342 --> 76.55806595458985\n",
            "epoch:  343 --> 76.56933883463542\n",
            "epoch:  344 --> 76.55419049784342\n",
            "epoch:  345 --> 76.55876812235515\n",
            "epoch:  346 --> 76.54494469401041\n",
            "epoch:  347 --> 76.55181475931803\n",
            "epoch:  348 --> 76.54830656229655\n",
            "epoch:  349 --> 76.54184504394532\n",
            "epoch:  350 --> 76.54885674133301\n",
            "epoch:  351 --> 76.54569235432943\n",
            "epoch:  352 --> 76.54554975687662\n",
            "epoch:  353 --> 76.53446343078613\n",
            "epoch:  354 --> 76.53209250793456\n",
            "epoch:  355 --> 76.5354632965088\n",
            "epoch:  356 --> 76.55324880981445\n",
            "epoch:  357 --> 76.52906411437988\n",
            "epoch:  358 --> 76.52413559570313\n",
            "epoch:  359 --> 76.5315059326172\n",
            "epoch:  360 --> 76.53141140238444\n",
            "epoch:  361 --> 76.53025605061849\n",
            "epoch:  362 --> 76.53416103210449\n",
            "epoch:  363 --> 76.54056558939615\n",
            "epoch:  364 --> 76.52036235860189\n",
            "epoch:  365 --> 76.53258240763347\n",
            "epoch:  366 --> 76.5141463450114\n",
            "epoch:  367 --> 76.51609815673828\n",
            "epoch:  368 --> 76.51968059692383\n",
            "epoch:  369 --> 76.5258957611084\n",
            "epoch:  370 --> 76.5221263865153\n",
            "epoch:  371 --> 76.52801447957357\n",
            "epoch:  372 --> 76.51655313008627\n",
            "epoch:  373 --> 76.51844268290202\n",
            "epoch:  374 --> 76.51206271362305\n",
            "epoch:  375 --> 76.51956737569174\n",
            "epoch:  376 --> 76.51121525472006\n",
            "epoch:  377 --> 76.5177458770752\n",
            "epoch:  378 --> 76.51439105936686\n",
            "epoch:  379 --> 76.50634513651529\n",
            "epoch:  380 --> 76.50432085673015\n",
            "epoch:  381 --> 76.51387428792317\n",
            "epoch:  382 --> 76.5100185139974\n",
            "epoch:  383 --> 76.50103304239909\n",
            "epoch:  384 --> 76.50100112406413\n",
            "epoch:  385 --> 76.48964909973145\n",
            "epoch:  386 --> 76.50554337259928\n",
            "epoch:  387 --> 76.49203588053385\n",
            "epoch:  388 --> 76.50258318684895\n",
            "epoch:  389 --> 76.48786823323567\n",
            "epoch:  390 --> 76.49232221272787\n",
            "epoch:  391 --> 76.48684261779785\n",
            "epoch:  392 --> 76.48347235616048\n",
            "epoch:  393 --> 76.4841111735026\n",
            "epoch:  394 --> 76.49052899373372\n",
            "epoch:  395 --> 76.49280114949545\n",
            "epoch:  396 --> 76.50560872192383\n",
            "epoch:  397 --> 76.49183753560384\n",
            "epoch:  398 --> 76.48964902648926\n",
            "epoch:  399 --> 76.48860844116211\n",
            "epoch:  400 --> 76.48106718546549\n",
            "epoch:  401 --> 76.49775624389649\n",
            "epoch:  402 --> 76.48025323181152\n",
            "epoch:  403 --> 76.49179416503907\n",
            "epoch:  404 --> 76.48513003031412\n",
            "epoch:  405 --> 76.47780792948404\n",
            "epoch:  406 --> 76.47985905965169\n",
            "epoch:  407 --> 76.4683922068278\n",
            "epoch:  408 --> 76.48397175089518\n",
            "epoch:  409 --> 76.47078033650716\n",
            "epoch:  410 --> 76.47964627176921\n",
            "epoch:  411 --> 76.48304657084147\n",
            "epoch:  412 --> 76.4816150777181\n",
            "epoch:  413 --> 76.47325319722493\n",
            "epoch:  414 --> 76.45778537902832\n",
            "epoch:  415 --> 76.47895996195476\n",
            "epoch:  416 --> 76.4671178741455\n",
            "epoch:  417 --> 76.47398323872883\n",
            "epoch:  418 --> 76.46099147745768\n",
            "epoch:  419 --> 76.47088281555176\n",
            "epoch:  420 --> 76.46273719991048\n",
            "epoch:  421 --> 76.46819237467447\n",
            "epoch:  422 --> 76.45975928853353\n",
            "epoch:  423 --> 76.46309139506022\n",
            "epoch:  424 --> 76.47009891255696\n",
            "epoch:  425 --> 76.4515338897705\n",
            "epoch:  426 --> 76.46394751078287\n",
            "epoch:  427 --> 76.4659906443278\n",
            "epoch:  428 --> 76.45287030741373\n",
            "epoch:  429 --> 76.46606961669922\n",
            "epoch:  430 --> 76.4564443918864\n",
            "epoch:  431 --> 76.44750309143066\n",
            "epoch:  432 --> 76.45608283793132\n",
            "epoch:  433 --> 76.44386257629395\n",
            "epoch:  434 --> 76.45725455322265\n",
            "epoch:  435 --> 76.4501263264974\n",
            "epoch:  436 --> 76.45934316813151\n",
            "epoch:  437 --> 76.45972948404948\n",
            "epoch:  438 --> 76.45167406819661\n",
            "epoch:  439 --> 76.45584543965657\n",
            "epoch:  440 --> 76.45085564168295\n",
            "epoch:  441 --> 76.45190994669596\n",
            "epoch:  442 --> 76.45420916341146\n",
            "epoch:  443 --> 76.43921676534016\n",
            "epoch:  444 --> 76.44412303263347\n",
            "epoch:  445 --> 76.44202483418782\n",
            "epoch:  446 --> 76.44219372049967\n",
            "epoch:  447 --> 76.44804397989908\n",
            "epoch:  448 --> 76.44814186909994\n",
            "epoch:  449 --> 76.4401777923584\n",
            "epoch:  450 --> 76.43667964274088\n",
            "epoch:  451 --> 76.45219692484538\n",
            "epoch:  452 --> 76.44086625874837\n",
            "epoch:  453 --> 76.44337896016438\n",
            "epoch:  454 --> 76.43811054280599\n",
            "epoch:  455 --> 76.44345251363119\n",
            "epoch:  456 --> 76.4486649617513\n",
            "epoch:  457 --> 76.43244406229655\n",
            "epoch:  458 --> 76.43245362447102\n",
            "epoch:  459 --> 76.4265914296468\n",
            "epoch:  460 --> 76.42719739786784\n",
            "epoch:  461 --> 76.43013104553222\n",
            "epoch:  462 --> 76.43618822835286\n",
            "epoch:  463 --> 76.4244642537435\n",
            "epoch:  464 --> 76.43991285603842\n",
            "epoch:  465 --> 76.43098991088867\n",
            "epoch:  466 --> 76.42996604410807\n",
            "epoch:  467 --> 76.42921739705403\n",
            "epoch:  468 --> 76.43767407836914\n",
            "epoch:  469 --> 76.43465593363445\n",
            "epoch:  470 --> 76.42348938496907\n",
            "epoch:  471 --> 76.41392041829427\n",
            "epoch:  472 --> 76.42881275838216\n",
            "epoch:  473 --> 76.418808299764\n",
            "epoch:  474 --> 76.42631467386882\n",
            "epoch:  475 --> 76.42005092875162\n",
            "epoch:  476 --> 76.4278029876709\n",
            "epoch:  477 --> 76.42224001057943\n",
            "epoch:  478 --> 76.41882838033041\n",
            "epoch:  479 --> 76.41896979064941\n",
            "epoch:  480 --> 76.40537253417969\n",
            "epoch:  481 --> 76.4195633992513\n",
            "epoch:  482 --> 76.41242164408366\n",
            "epoch:  483 --> 76.41607178141275\n",
            "epoch:  484 --> 76.40555187174479\n",
            "epoch:  485 --> 76.41629704488119\n",
            "epoch:  486 --> 76.40706825358073\n",
            "epoch:  487 --> 76.41995197652182\n",
            "epoch:  488 --> 76.4144938252767\n",
            "epoch:  489 --> 76.40060545756022\n",
            "epoch:  490 --> 76.41192316792807\n",
            "epoch:  491 --> 76.41527404988607\n",
            "epoch:  492 --> 76.40455225728353\n",
            "epoch:  493 --> 76.4165680867513\n",
            "epoch:  494 --> 76.40725446472167\n",
            "epoch:  495 --> 76.40944934590658\n",
            "epoch:  496 --> 76.407395215861\n",
            "epoch:  497 --> 76.4076161549886\n",
            "epoch:  498 --> 76.4147577524821\n",
            "epoch:  499 --> 76.3963861755371\n"
          ],
          "name": "stdout"
        }
      ]
    },
    {
      "cell_type": "code",
      "metadata": {
        "id": "7kUSqEAlBKcJ",
        "colab_type": "code",
        "colab": {}
      },
      "source": [
        ""
      ],
      "execution_count": 0,
      "outputs": []
    },
    {
      "cell_type": "code",
      "metadata": {
        "id": "kCUl22QOAWcx",
        "colab_type": "code",
        "colab": {}
      },
      "source": [
        "model.eval()\n",
        "# test for reconstruction\n",
        "score=0\n",
        "target=0\n",
        "for x,y in test_loader:\n",
        "  x = x.view(batch_size_train,-1)\n",
        "  score = model(x.type(dtype))\n",
        "  target = y\n",
        "  break"
      ],
      "execution_count": 0,
      "outputs": []
    },
    {
      "cell_type": "code",
      "metadata": {
        "id": "GY5xhazz9s3M",
        "colab_type": "code",
        "colab": {
          "base_uri": "https://localhost:8080/",
          "height": 284
        },
        "outputId": "20196704-d428-4f26-86ea-bd9b7789d6e1"
      },
      "source": [
        "score = torch.sigmoid(score)\n",
        "exp = score.cpu().detach().numpy()\n",
        "exp = exp.reshape(16,1,28,28)\n",
        "plot_images(exp,target)"
      ],
      "execution_count": 16,
      "outputs": [
        {
          "output_type": "display_data",
          "data": {
            "image/png": "[encoded data removed]",
            "text/plain": [
              "<Figure size 432x288 with 16 Axes>"
            ]
          },
          "metadata": {
            "tags": []
          }
        }
      ]
    },
    {
      "cell_type": "code",
      "metadata": {
        "id": "_jpgWhRy_V6U",
        "colab_type": "code",
        "colab": {}
      },
      "source": [
        "# generate samples\n",
        "def gen_image(model, num_samples=10):\n",
        "    x_sample =  torch.from_numpy(np.random.rand(num_samples,28*28)).type(dtype)\n",
        "    \n",
        "    # Iteratively generate each conditional pixel P(x_i | x_{1,..,i-1})\n",
        "    for i in range(0, 28*28):\n",
        "        x_out = model(x_sample)\n",
        "        x_out = torch.sigmoid(x_out)    \n",
        "        p = torch.from_numpy(np.random.rand(num_samples)).type(dtype)\n",
        "        index = model.m[-1][i]\n",
        "        x_sample[:, index] = (x_out[:, index] > p)\n",
        "    return x_sample"
      ],
      "execution_count": 0,
      "outputs": []
    },
    {
      "cell_type": "code",
      "metadata": {
        "id": "OkIq0olCDhV3",
        "colab_type": "code",
        "colab": {}
      },
      "source": [
        "x_sample = gen_image(model, num_samples=10)"
      ],
      "execution_count": 0,
      "outputs": []
    },
    {
      "cell_type": "code",
      "metadata": {
        "id": "S42GteQ9SVfT",
        "colab_type": "code",
        "colab": {}
      },
      "source": [
        "def plot_images2(data_val):\n",
        "  fig  = plt.figure()\n",
        "  for i in range(10):\n",
        "    plt.subplot(4,4,i+1)\n",
        "    plt.tight_layout()\n",
        "    plt.imshow(data_val[i][0], cmap='gray', interpolation='none')\n"
      ],
      "execution_count": 0,
      "outputs": []
    },
    {
      "cell_type": "code",
      "metadata": {
        "id": "Fj3ulLqSRrR8",
        "colab_type": "code",
        "colab": {
          "base_uri": "https://localhost:8080/",
          "height": 260
        },
        "outputId": "035a7eef-1ab6-43b9-8627-f7bdaae6d913"
      },
      "source": [
        "print(x_sample.size())\n",
        "score = x_sample\n",
        "exp = score.cpu().detach().numpy()\n",
        "exp = exp.reshape(10,1,28,28)\n",
        "plot_images2(exp)"
      ],
      "execution_count": 68,
      "outputs": [
        {
          "output_type": "stream",
          "text": [
            "torch.Size([10, 784])\n"
          ],
          "name": "stdout"
        },
        {
          "output_type": "display_data",
          "data": {
            "image/png": "[encoded data removed]",
            "text/plain": [
              "<Figure size 432x288 with 10 Axes>"
            ]
          },
          "metadata": {
            "tags": []
          }
        }
      ]
    }
  ]
}